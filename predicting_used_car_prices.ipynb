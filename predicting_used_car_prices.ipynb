{
 "cells": [
  {
   "cell_type": "markdown",
   "id": "850f4259",
   "metadata": {},
   "source": [
    "## 📄 Dataset Overview: Used Car Price Prediction\n",
    "For this project, I am using the Used Car Price Prediction Dataset sourced from Kaggle. The dataset is a collection of real-world used car listings from the popular automobile marketplace website https://www.cars.com. The dataset includes 9 distinct and informative feature variables that can be effectively used to predict a car's price.\n",
    "\n",
    "Total Instances (Rows): 4,009\n",
    "\n",
    "Total Features (Columns): 9 (excluding the target variable)\n",
    "\n",
    "Kaggle Dataset: https://www.kaggle.com/datasets/taeefnajib/used-car-price-prediction-dataset/data"
   ]
  },
  {
   "cell_type": "markdown",
   "id": "f7c1c169",
   "metadata": {},
   "source": [
    "### 🔍 Features:\n",
    "\n",
    "Brand: Manufacturer company names (e.g. Toyota, Camry, BMW)\n",
    "\n",
    "Model: Specific Model of the car (e.g. Rover LR4 HSE, RC 350 F Sport)\n",
    "\n",
    "Model Year: Manufacturing year, crucial feature for assessing depreciation and technology (YYYY)\n",
    "\n",
    "Mileage: otal distance the car has been driven. A key factor to identify wear & tear of vehicle (in miles)\n",
    "\n",
    "Fuel Type: Type of fuel used (e.g., Gasoline, Diesel, Hybrid)\n",
    "\n",
    "Engine Type: Engine specifications (e.g., V6, 4-Cylinder)\n",
    "\n",
    "Transmission: Type of transmission (e.g., automatic, manual)\n",
    "\n",
    "Exterior & Interior Colors: aesthetic of cars\n",
    "\n",
    "Accident History: Accident recorded in past or damage, crucial for informed decision-making. (Yes/No)\n",
    "\n",
    "Clean Title: Informs about the vehicle's resale value and legal status (Yes/No)"
   ]
  },
  {
   "cell_type": "markdown",
   "id": "a85235a8",
   "metadata": {},
   "source": [
    "### 🎯 Target Variable:\n",
    "\n",
    "Price: The listed price of the vehicle in USD (continuous numeric variable)"
   ]
  },
  {
   "cell_type": "markdown",
   "id": "73a422b0",
   "metadata": {},
   "source": [
    "### 🔧  Prediction Task\n",
    "Objective: I aim to build a machine learning X model to predict the price of a used car based on its features. This model can assist buyers and sellers in estimating the fair value of a vehicle by analyzing historical data."
   ]
  },
  {
   "cell_type": "markdown",
   "id": "4a23b2a0",
   "metadata": {},
   "source": [
    "  ## 1. Load the Data"
   ]
  },
  {
   "cell_type": "code",
   "execution_count": 85,
   "id": "63e13119",
   "metadata": {},
   "outputs": [],
   "source": [
    "import pandas as pd                        # Importing libraries\n",
    "import numpy as np\n",
    "from matplotlib import pyplot as plt\n",
    "import seaborn as sns\n",
    "import re"
   ]
  },
  {
   "cell_type": "code",
   "execution_count": 86,
   "id": "fa1cac49",
   "metadata": {},
   "outputs": [
    {
     "data": {
      "text/html": [
       "<div>\n",
       "<style scoped>\n",
       "    .dataframe tbody tr th:only-of-type {\n",
       "        vertical-align: middle;\n",
       "    }\n",
       "\n",
       "    .dataframe tbody tr th {\n",
       "        vertical-align: top;\n",
       "    }\n",
       "\n",
       "    .dataframe thead th {\n",
       "        text-align: right;\n",
       "    }\n",
       "</style>\n",
       "<table border=\"1\" class=\"dataframe\">\n",
       "  <thead>\n",
       "    <tr style=\"text-align: right;\">\n",
       "      <th></th>\n",
       "      <th>brand</th>\n",
       "      <th>model</th>\n",
       "      <th>model_year</th>\n",
       "      <th>milage</th>\n",
       "      <th>fuel_type</th>\n",
       "      <th>engine</th>\n",
       "      <th>transmission</th>\n",
       "      <th>ext_col</th>\n",
       "      <th>int_col</th>\n",
       "      <th>accident</th>\n",
       "      <th>clean_title</th>\n",
       "      <th>price</th>\n",
       "    </tr>\n",
       "  </thead>\n",
       "  <tbody>\n",
       "    <tr>\n",
       "      <th>0</th>\n",
       "      <td>Ford</td>\n",
       "      <td>Utility Police Interceptor Base</td>\n",
       "      <td>2013</td>\n",
       "      <td>51,000 mi.</td>\n",
       "      <td>E85 Flex Fuel</td>\n",
       "      <td>300.0HP 3.7L V6 Cylinder Engine Flex Fuel Capa...</td>\n",
       "      <td>6-Speed A/T</td>\n",
       "      <td>Black</td>\n",
       "      <td>Black</td>\n",
       "      <td>At least 1 accident or damage reported</td>\n",
       "      <td>Yes</td>\n",
       "      <td>$10,300</td>\n",
       "    </tr>\n",
       "    <tr>\n",
       "      <th>1</th>\n",
       "      <td>Hyundai</td>\n",
       "      <td>Palisade SEL</td>\n",
       "      <td>2021</td>\n",
       "      <td>34,742 mi.</td>\n",
       "      <td>Gasoline</td>\n",
       "      <td>3.8L V6 24V GDI DOHC</td>\n",
       "      <td>8-Speed Automatic</td>\n",
       "      <td>Moonlight Cloud</td>\n",
       "      <td>Gray</td>\n",
       "      <td>At least 1 accident or damage reported</td>\n",
       "      <td>Yes</td>\n",
       "      <td>$38,005</td>\n",
       "    </tr>\n",
       "    <tr>\n",
       "      <th>2</th>\n",
       "      <td>Lexus</td>\n",
       "      <td>RX 350 RX 350</td>\n",
       "      <td>2022</td>\n",
       "      <td>22,372 mi.</td>\n",
       "      <td>Gasoline</td>\n",
       "      <td>3.5 Liter DOHC</td>\n",
       "      <td>Automatic</td>\n",
       "      <td>Blue</td>\n",
       "      <td>Black</td>\n",
       "      <td>None reported</td>\n",
       "      <td>NaN</td>\n",
       "      <td>$54,598</td>\n",
       "    </tr>\n",
       "    <tr>\n",
       "      <th>3</th>\n",
       "      <td>INFINITI</td>\n",
       "      <td>Q50 Hybrid Sport</td>\n",
       "      <td>2015</td>\n",
       "      <td>88,900 mi.</td>\n",
       "      <td>Hybrid</td>\n",
       "      <td>354.0HP 3.5L V6 Cylinder Engine Gas/Electric H...</td>\n",
       "      <td>7-Speed A/T</td>\n",
       "      <td>Black</td>\n",
       "      <td>Black</td>\n",
       "      <td>None reported</td>\n",
       "      <td>Yes</td>\n",
       "      <td>$15,500</td>\n",
       "    </tr>\n",
       "    <tr>\n",
       "      <th>4</th>\n",
       "      <td>Audi</td>\n",
       "      <td>Q3 45 S line Premium Plus</td>\n",
       "      <td>2021</td>\n",
       "      <td>9,835 mi.</td>\n",
       "      <td>Gasoline</td>\n",
       "      <td>2.0L I4 16V GDI DOHC Turbo</td>\n",
       "      <td>8-Speed Automatic</td>\n",
       "      <td>Glacier White Metallic</td>\n",
       "      <td>Black</td>\n",
       "      <td>None reported</td>\n",
       "      <td>NaN</td>\n",
       "      <td>$34,999</td>\n",
       "    </tr>\n",
       "  </tbody>\n",
       "</table>\n",
       "</div>"
      ],
      "text/plain": [
       "      brand                            model  model_year      milage  \\\n",
       "0      Ford  Utility Police Interceptor Base        2013  51,000 mi.   \n",
       "1   Hyundai                     Palisade SEL        2021  34,742 mi.   \n",
       "2     Lexus                    RX 350 RX 350        2022  22,372 mi.   \n",
       "3  INFINITI                 Q50 Hybrid Sport        2015  88,900 mi.   \n",
       "4      Audi        Q3 45 S line Premium Plus        2021   9,835 mi.   \n",
       "\n",
       "       fuel_type                                             engine  \\\n",
       "0  E85 Flex Fuel  300.0HP 3.7L V6 Cylinder Engine Flex Fuel Capa...   \n",
       "1       Gasoline                               3.8L V6 24V GDI DOHC   \n",
       "2       Gasoline                                     3.5 Liter DOHC   \n",
       "3         Hybrid  354.0HP 3.5L V6 Cylinder Engine Gas/Electric H...   \n",
       "4       Gasoline                         2.0L I4 16V GDI DOHC Turbo   \n",
       "\n",
       "        transmission                 ext_col int_col  \\\n",
       "0        6-Speed A/T                   Black   Black   \n",
       "1  8-Speed Automatic         Moonlight Cloud    Gray   \n",
       "2          Automatic                    Blue   Black   \n",
       "3        7-Speed A/T                   Black   Black   \n",
       "4  8-Speed Automatic  Glacier White Metallic   Black   \n",
       "\n",
       "                                 accident clean_title    price  \n",
       "0  At least 1 accident or damage reported         Yes  $10,300  \n",
       "1  At least 1 accident or damage reported         Yes  $38,005  \n",
       "2                           None reported         NaN  $54,598  \n",
       "3                           None reported         Yes  $15,500  \n",
       "4                           None reported         NaN  $34,999  "
      ]
     },
     "execution_count": 86,
     "metadata": {},
     "output_type": "execute_result"
    }
   ],
   "source": [
    "df = pd.read_csv(\"used_cars.csv\")          # Loading datset \n",
    "df.head()                                  # Verify the dataset "
   ]
  },
  {
   "cell_type": "code",
   "execution_count": 87,
   "id": "256864e6",
   "metadata": {},
   "outputs": [
    {
     "data": {
      "text/plain": [
       "(4009, 12)"
      ]
     },
     "execution_count": 87,
     "metadata": {},
     "output_type": "execute_result"
    }
   ],
   "source": [
    "df.shape               # Rows : 4009 , Columns = 12"
   ]
  },
  {
   "cell_type": "markdown",
   "id": "fa2a7c03",
   "metadata": {},
   "source": [
    "## 2. Explore the Data (EDA)"
   ]
  },
  {
   "cell_type": "code",
   "execution_count": 88,
   "id": "d738b5fd",
   "metadata": {},
   "outputs": [
    {
     "name": "stdout",
     "output_type": "stream",
     "text": [
      "<class 'pandas.core.frame.DataFrame'>\n",
      "RangeIndex: 4009 entries, 0 to 4008\n",
      "Data columns (total 12 columns):\n",
      " #   Column        Non-Null Count  Dtype \n",
      "---  ------        --------------  ----- \n",
      " 0   brand         4009 non-null   object\n",
      " 1   model         4009 non-null   object\n",
      " 2   model_year    4009 non-null   int64 \n",
      " 3   milage        4009 non-null   object\n",
      " 4   fuel_type     3839 non-null   object\n",
      " 5   engine        4009 non-null   object\n",
      " 6   transmission  4009 non-null   object\n",
      " 7   ext_col       4009 non-null   object\n",
      " 8   int_col       4009 non-null   object\n",
      " 9   accident      3896 non-null   object\n",
      " 10  clean_title   3413 non-null   object\n",
      " 11  price         4009 non-null   object\n",
      "dtypes: int64(1), object(11)\n",
      "memory usage: 376.0+ KB\n"
     ]
    }
   ],
   "source": [
    "df.info()                     # Checking datatype for columns"
   ]
  },
  {
   "cell_type": "markdown",
   "id": "7f2316cc",
   "metadata": {},
   "source": [
    "#### 2.1 Data Cleaning & Pre-Processing\n",
    "\n",
    "##### We can see Milage & Price has Object Datatype but we can covert it to Integer for easy of analysis"
   ]
  },
  {
   "cell_type": "code",
   "execution_count": 89,
   "id": "6679c027",
   "metadata": {},
   "outputs": [
    {
     "data": {
      "text/html": [
       "<div>\n",
       "<style scoped>\n",
       "    .dataframe tbody tr th:only-of-type {\n",
       "        vertical-align: middle;\n",
       "    }\n",
       "\n",
       "    .dataframe tbody tr th {\n",
       "        vertical-align: top;\n",
       "    }\n",
       "\n",
       "    .dataframe thead th {\n",
       "        text-align: right;\n",
       "    }\n",
       "</style>\n",
       "<table border=\"1\" class=\"dataframe\">\n",
       "  <thead>\n",
       "    <tr style=\"text-align: right;\">\n",
       "      <th></th>\n",
       "      <th>milage</th>\n",
       "      <th>price</th>\n",
       "    </tr>\n",
       "  </thead>\n",
       "  <tbody>\n",
       "    <tr>\n",
       "      <th>0</th>\n",
       "      <td>51,000 mi.</td>\n",
       "      <td>$10,300</td>\n",
       "    </tr>\n",
       "    <tr>\n",
       "      <th>1</th>\n",
       "      <td>34,742 mi.</td>\n",
       "      <td>$38,005</td>\n",
       "    </tr>\n",
       "    <tr>\n",
       "      <th>2</th>\n",
       "      <td>22,372 mi.</td>\n",
       "      <td>$54,598</td>\n",
       "    </tr>\n",
       "    <tr>\n",
       "      <th>3</th>\n",
       "      <td>88,900 mi.</td>\n",
       "      <td>$15,500</td>\n",
       "    </tr>\n",
       "    <tr>\n",
       "      <th>4</th>\n",
       "      <td>9,835 mi.</td>\n",
       "      <td>$34,999</td>\n",
       "    </tr>\n",
       "    <tr>\n",
       "      <th>...</th>\n",
       "      <td>...</td>\n",
       "      <td>...</td>\n",
       "    </tr>\n",
       "    <tr>\n",
       "      <th>4004</th>\n",
       "      <td>714 mi.</td>\n",
       "      <td>$349,950</td>\n",
       "    </tr>\n",
       "    <tr>\n",
       "      <th>4005</th>\n",
       "      <td>10,900 mi.</td>\n",
       "      <td>$53,900</td>\n",
       "    </tr>\n",
       "    <tr>\n",
       "      <th>4006</th>\n",
       "      <td>2,116 mi.</td>\n",
       "      <td>$90,998</td>\n",
       "    </tr>\n",
       "    <tr>\n",
       "      <th>4007</th>\n",
       "      <td>33,000 mi.</td>\n",
       "      <td>$62,999</td>\n",
       "    </tr>\n",
       "    <tr>\n",
       "      <th>4008</th>\n",
       "      <td>43,000 mi.</td>\n",
       "      <td>$40,000</td>\n",
       "    </tr>\n",
       "  </tbody>\n",
       "</table>\n",
       "<p>4009 rows × 2 columns</p>\n",
       "</div>"
      ],
      "text/plain": [
       "          milage     price\n",
       "0     51,000 mi.   $10,300\n",
       "1     34,742 mi.   $38,005\n",
       "2     22,372 mi.   $54,598\n",
       "3     88,900 mi.   $15,500\n",
       "4      9,835 mi.   $34,999\n",
       "...          ...       ...\n",
       "4004     714 mi.  $349,950\n",
       "4005  10,900 mi.   $53,900\n",
       "4006   2,116 mi.   $90,998\n",
       "4007  33,000 mi.   $62,999\n",
       "4008  43,000 mi.   $40,000\n",
       "\n",
       "[4009 rows x 2 columns]"
      ]
     },
     "execution_count": 89,
     "metadata": {},
     "output_type": "execute_result"
    }
   ],
   "source": [
    "df[['milage', 'price']]"
   ]
  },
  {
   "cell_type": "code",
   "execution_count": 90,
   "id": "f866b02b",
   "metadata": {},
   "outputs": [],
   "source": [
    "df['milage']= df['milage'].replace([',',' mi.'], ['',''], regex=True).astype(int)    # Replace comma (,) and \" mi.\" with an empty string ''"
   ]
  },
  {
   "cell_type": "code",
   "execution_count": 91,
   "id": "440041fe",
   "metadata": {},
   "outputs": [
    {
     "data": {
      "text/plain": [
       "0        $10,300\n",
       "1        $38,005\n",
       "2        $54,598\n",
       "3        $15,500\n",
       "4        $34,999\n",
       "          ...   \n",
       "4004    $349,950\n",
       "4005     $53,900\n",
       "4006     $90,998\n",
       "4007     $62,999\n",
       "4008     $40,000\n",
       "Name: price, Length: 4009, dtype: object"
      ]
     },
     "execution_count": 91,
     "metadata": {},
     "output_type": "execute_result"
    }
   ],
   "source": [
    "df.price"
   ]
  },
  {
   "cell_type": "code",
   "execution_count": 92,
   "id": "55be34bb",
   "metadata": {},
   "outputs": [],
   "source": [
    "df['price'] = df['price'].replace(r'[$,]', '', regex=True).astype(int)     # Replace dollar sign ($) and (,) to empty string ''"
   ]
  },
  {
   "cell_type": "code",
   "execution_count": 93,
   "id": "019b6fb4",
   "metadata": {},
   "outputs": [
    {
     "data": {
      "text/html": [
       "<div>\n",
       "<style scoped>\n",
       "    .dataframe tbody tr th:only-of-type {\n",
       "        vertical-align: middle;\n",
       "    }\n",
       "\n",
       "    .dataframe tbody tr th {\n",
       "        vertical-align: top;\n",
       "    }\n",
       "\n",
       "    .dataframe thead th {\n",
       "        text-align: right;\n",
       "    }\n",
       "</style>\n",
       "<table border=\"1\" class=\"dataframe\">\n",
       "  <thead>\n",
       "    <tr style=\"text-align: right;\">\n",
       "      <th></th>\n",
       "      <th>milage</th>\n",
       "      <th>price</th>\n",
       "    </tr>\n",
       "  </thead>\n",
       "  <tbody>\n",
       "    <tr>\n",
       "      <th>0</th>\n",
       "      <td>51000</td>\n",
       "      <td>10300</td>\n",
       "    </tr>\n",
       "    <tr>\n",
       "      <th>1</th>\n",
       "      <td>34742</td>\n",
       "      <td>38005</td>\n",
       "    </tr>\n",
       "    <tr>\n",
       "      <th>2</th>\n",
       "      <td>22372</td>\n",
       "      <td>54598</td>\n",
       "    </tr>\n",
       "    <tr>\n",
       "      <th>3</th>\n",
       "      <td>88900</td>\n",
       "      <td>15500</td>\n",
       "    </tr>\n",
       "    <tr>\n",
       "      <th>4</th>\n",
       "      <td>9835</td>\n",
       "      <td>34999</td>\n",
       "    </tr>\n",
       "    <tr>\n",
       "      <th>...</th>\n",
       "      <td>...</td>\n",
       "      <td>...</td>\n",
       "    </tr>\n",
       "    <tr>\n",
       "      <th>4004</th>\n",
       "      <td>714</td>\n",
       "      <td>349950</td>\n",
       "    </tr>\n",
       "    <tr>\n",
       "      <th>4005</th>\n",
       "      <td>10900</td>\n",
       "      <td>53900</td>\n",
       "    </tr>\n",
       "    <tr>\n",
       "      <th>4006</th>\n",
       "      <td>2116</td>\n",
       "      <td>90998</td>\n",
       "    </tr>\n",
       "    <tr>\n",
       "      <th>4007</th>\n",
       "      <td>33000</td>\n",
       "      <td>62999</td>\n",
       "    </tr>\n",
       "    <tr>\n",
       "      <th>4008</th>\n",
       "      <td>43000</td>\n",
       "      <td>40000</td>\n",
       "    </tr>\n",
       "  </tbody>\n",
       "</table>\n",
       "<p>4009 rows × 2 columns</p>\n",
       "</div>"
      ],
      "text/plain": [
       "      milage   price\n",
       "0      51000   10300\n",
       "1      34742   38005\n",
       "2      22372   54598\n",
       "3      88900   15500\n",
       "4       9835   34999\n",
       "...      ...     ...\n",
       "4004     714  349950\n",
       "4005   10900   53900\n",
       "4006    2116   90998\n",
       "4007   33000   62999\n",
       "4008   43000   40000\n",
       "\n",
       "[4009 rows x 2 columns]"
      ]
     },
     "execution_count": 93,
     "metadata": {},
     "output_type": "execute_result"
    }
   ],
   "source": [
    "df[['milage', 'price']]"
   ]
  },
  {
   "cell_type": "code",
   "execution_count": 94,
   "id": "decf62a8",
   "metadata": {},
   "outputs": [
    {
     "data": {
      "text/plain": [
       "milage    int64\n",
       "price     int64\n",
       "dtype: object"
      ]
     },
     "execution_count": 94,
     "metadata": {},
     "output_type": "execute_result"
    }
   ],
   "source": [
    "df[['milage', 'price']].dtypes        # Successfully converted milage & price in INT type  "
   ]
  },
  {
   "cell_type": "markdown",
   "id": "644c6839",
   "metadata": {},
   "source": [
    "#### Checking for null values in dataset"
   ]
  },
  {
   "cell_type": "code",
   "execution_count": 95,
   "id": "cc6d6a8c",
   "metadata": {},
   "outputs": [
    {
     "data": {
      "text/plain": [
       "brand             0\n",
       "model             0\n",
       "model_year        0\n",
       "milage            0\n",
       "fuel_type       170\n",
       "engine            0\n",
       "transmission      0\n",
       "ext_col           0\n",
       "int_col           0\n",
       "accident        113\n",
       "clean_title     596\n",
       "price             0\n",
       "dtype: int64"
      ]
     },
     "execution_count": 95,
     "metadata": {},
     "output_type": "execute_result"
    }
   ],
   "source": [
    "df.isnull().sum()\n"
   ]
  },
  {
   "cell_type": "code",
   "execution_count": 96,
   "id": "77d84b0c",
   "metadata": {},
   "outputs": [
    {
     "data": {
      "text/html": [
       "<div>\n",
       "<style scoped>\n",
       "    .dataframe tbody tr th:only-of-type {\n",
       "        vertical-align: middle;\n",
       "    }\n",
       "\n",
       "    .dataframe tbody tr th {\n",
       "        vertical-align: top;\n",
       "    }\n",
       "\n",
       "    .dataframe thead th {\n",
       "        text-align: right;\n",
       "    }\n",
       "</style>\n",
       "<table border=\"1\" class=\"dataframe\">\n",
       "  <thead>\n",
       "    <tr style=\"text-align: right;\">\n",
       "      <th></th>\n",
       "      <th>fuel_type</th>\n",
       "      <th>accident</th>\n",
       "      <th>clean_title</th>\n",
       "    </tr>\n",
       "  </thead>\n",
       "  <tbody>\n",
       "    <tr>\n",
       "      <th>0</th>\n",
       "      <td>E85 Flex Fuel</td>\n",
       "      <td>At least 1 accident or damage reported</td>\n",
       "      <td>Yes</td>\n",
       "    </tr>\n",
       "    <tr>\n",
       "      <th>1</th>\n",
       "      <td>Gasoline</td>\n",
       "      <td>At least 1 accident or damage reported</td>\n",
       "      <td>Yes</td>\n",
       "    </tr>\n",
       "    <tr>\n",
       "      <th>2</th>\n",
       "      <td>Gasoline</td>\n",
       "      <td>None reported</td>\n",
       "      <td>NaN</td>\n",
       "    </tr>\n",
       "    <tr>\n",
       "      <th>3</th>\n",
       "      <td>Hybrid</td>\n",
       "      <td>None reported</td>\n",
       "      <td>Yes</td>\n",
       "    </tr>\n",
       "    <tr>\n",
       "      <th>4</th>\n",
       "      <td>Gasoline</td>\n",
       "      <td>None reported</td>\n",
       "      <td>NaN</td>\n",
       "    </tr>\n",
       "    <tr>\n",
       "      <th>...</th>\n",
       "      <td>...</td>\n",
       "      <td>...</td>\n",
       "      <td>...</td>\n",
       "    </tr>\n",
       "    <tr>\n",
       "      <th>4004</th>\n",
       "      <td>Gasoline</td>\n",
       "      <td>None reported</td>\n",
       "      <td>Yes</td>\n",
       "    </tr>\n",
       "    <tr>\n",
       "      <th>4005</th>\n",
       "      <td>Gasoline</td>\n",
       "      <td>None reported</td>\n",
       "      <td>Yes</td>\n",
       "    </tr>\n",
       "    <tr>\n",
       "      <th>4006</th>\n",
       "      <td>NaN</td>\n",
       "      <td>None reported</td>\n",
       "      <td>NaN</td>\n",
       "    </tr>\n",
       "    <tr>\n",
       "      <th>4007</th>\n",
       "      <td>Gasoline</td>\n",
       "      <td>None reported</td>\n",
       "      <td>Yes</td>\n",
       "    </tr>\n",
       "    <tr>\n",
       "      <th>4008</th>\n",
       "      <td>Gasoline</td>\n",
       "      <td>At least 1 accident or damage reported</td>\n",
       "      <td>Yes</td>\n",
       "    </tr>\n",
       "  </tbody>\n",
       "</table>\n",
       "<p>4009 rows × 3 columns</p>\n",
       "</div>"
      ],
      "text/plain": [
       "          fuel_type                                accident clean_title\n",
       "0     E85 Flex Fuel  At least 1 accident or damage reported         Yes\n",
       "1          Gasoline  At least 1 accident or damage reported         Yes\n",
       "2          Gasoline                           None reported         NaN\n",
       "3            Hybrid                           None reported         Yes\n",
       "4          Gasoline                           None reported         NaN\n",
       "...             ...                                     ...         ...\n",
       "4004       Gasoline                           None reported         Yes\n",
       "4005       Gasoline                           None reported         Yes\n",
       "4006            NaN                           None reported         NaN\n",
       "4007       Gasoline                           None reported         Yes\n",
       "4008       Gasoline  At least 1 accident or damage reported         Yes\n",
       "\n",
       "[4009 rows x 3 columns]"
      ]
     },
     "execution_count": 96,
     "metadata": {},
     "output_type": "execute_result"
    }
   ],
   "source": [
    "df[['fuel_type','accident','clean_title']]"
   ]
  },
  {
   "cell_type": "markdown",
   "id": "ab5ba220",
   "metadata": {},
   "source": [
    "### Reason for droping null columns \n",
    "\n",
    "##### The Fuel Type, Accident History, and Clean Title columns play a significant role in predicting our dependent variable, Price (Y).\n",
    "\n",
    "##### To ensure high accuracy in our price prediction model — especially in a business context where even small prediction errors can lead to significant financial losses — we have decided to drop all rows containing null values in these critical columns.\n",
    "\n",
    "##### Imputing or assuming values for such sensitive attributes could distort the model's understanding and lead to unrealistic predictions. Since our goal is to assist a company in accurately estimating used car prices, maintaining data integrity is a top priority."
   ]
  },
  {
   "cell_type": "code",
   "execution_count": 97,
   "id": "fd968207",
   "metadata": {},
   "outputs": [],
   "source": [
    "df.dropna(subset=['fuel_type', 'accident', 'clean_title'], inplace =True)"
   ]
  },
  {
   "cell_type": "code",
   "execution_count": null,
   "id": "90467a73",
   "metadata": {},
   "outputs": [
    {
     "data": {
      "text/plain": [
       "brand           0\n",
       "model           0\n",
       "model_year      0\n",
       "milage          0\n",
       "fuel_type       0\n",
       "engine          0\n",
       "transmission    0\n",
       "ext_col         0\n",
       "int_col         0\n",
       "accident        0\n",
       "clean_title     0\n",
       "price           0\n",
       "dtype: int64"
      ]
     },
     "execution_count": 98,
     "metadata": {},
     "output_type": "execute_result"
    }
   ],
   "source": [
    "df.isnull().sum()      # Now have clean dataset we accurate values  "
   ]
  }
 ],
 "metadata": {
  "kernelspec": {
   "display_name": "data_analytics",
   "language": "python",
   "name": "python3"
  },
  "language_info": {
   "codemirror_mode": {
    "name": "ipython",
    "version": 3
   },
   "file_extension": ".py",
   "mimetype": "text/x-python",
   "name": "python",
   "nbconvert_exporter": "python",
   "pygments_lexer": "ipython3",
   "version": "3.12.8"
  }
 },
 "nbformat": 4,
 "nbformat_minor": 5
}
