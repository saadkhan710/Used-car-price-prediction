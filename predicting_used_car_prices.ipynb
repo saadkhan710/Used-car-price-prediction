{
 "cells": [
  {
   "cell_type": "markdown",
   "id": "850f4259",
   "metadata": {},
   "source": [
    "## 📄 Dataset Overview: Used Car Price Prediction\n",
    "For this project, I am using the Used Car Price Prediction Dataset sourced from Kaggle. The dataset is a collection of real-world used car listings from the popular automobile marketplace website https://www.cars.com. The dataset includes 9 distinct and informative feature variables that can be effectively used to predict a car's price.\n",
    "\n",
    "Total Instances (Rows): 4,009\n",
    "\n",
    "Total Features (Columns): 9 (excluding the target variable)\n",
    "\n",
    "Kaggle Dataset: https://www.kaggle.com/datasets/taeefnajib/used-car-price-prediction-dataset/data"
   ]
  },
  {
   "cell_type": "markdown",
   "id": "f7c1c169",
   "metadata": {},
   "source": [
    "### 🔍 Features:\n",
    "\n",
    "Brand: Manufacturer company names (e.g. Toyota, Camry, BMW)\n",
    "\n",
    "Model: Specific Model of the car (e.g. Rover LR4 HSE, RC 350 F Sport)\n",
    "\n",
    "Model Year: Manufacturing year, crucial feature for assessing depreciation and technology (YYYY)\n",
    "\n",
    "Mileage: otal distance the car has been driven. A key factor to identify wear & tear of vehicle (in miles)\n",
    "\n",
    "Fuel Type: Type of fuel used (e.g., Gasoline, Diesel, Hybrid)\n",
    "\n",
    "Engine Type: Engine specifications (e.g., V6, 4-Cylinder)\n",
    "\n",
    "Transmission: Type of transmission (e.g., automatic, manual)\n",
    "\n",
    "Exterior & Interior Colors: aesthetic of cars\n",
    "\n",
    "Accident History: Accident recorded in past or damage, crucial for informed decision-making. (Yes/No)\n",
    "\n",
    "Clean Title: Informs about the vehicle's resale value and legal status (Yes/No)"
   ]
  },
  {
   "cell_type": "markdown",
   "id": "a85235a8",
   "metadata": {},
   "source": [
    "### 🎯 Target Variable:\n",
    "\n",
    "Price: The listed price of the vehicle in USD (continuous numeric variable)"
   ]
  },
  {
   "cell_type": "markdown",
   "id": "73a422b0",
   "metadata": {},
   "source": [
    "### 🔧  Prediction Task\n",
    "Objective: I aim to build a machine learning X model to predict the price of a used car based on its features. This model can assist buyers and sellers in estimating the fair value of a vehicle by analyzing historical data."
   ]
  },
  {
   "cell_type": "markdown",
   "id": "4a23b2a0",
   "metadata": {},
   "source": []
  },
  {
   "cell_type": "markdown",
   "id": "ef561f84",
   "metadata": {},
   "source": []
  }
 ],
 "metadata": {
  "language_info": {
   "name": "python"
  }
 },
 "nbformat": 4,
 "nbformat_minor": 5
}
